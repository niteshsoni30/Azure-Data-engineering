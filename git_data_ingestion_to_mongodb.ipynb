{
  "nbformat": 4,
  "nbformat_minor": 0,
  "metadata": {
    "colab": {
      "provenance": [],
      "authorship_tag": "ABX9TyNwGYSy9+aNO6KM50wIs5QO",
      "include_colab_link": true
    },
    "kernelspec": {
      "name": "python3",
      "display_name": "Python 3"
    },
    "language_info": {
      "name": "python"
    }
  },
  "cells": [
    {
      "cell_type": "markdown",
      "metadata": {
        "id": "view-in-github",
        "colab_type": "text"
      },
      "source": [
        "<a href=\"https://colab.research.google.com/github/niteshsoni30/Azure-Data-engineering/blob/main/git_data_ingestion_to_mongodb.ipynb\" target=\"_parent\"><img src=\"https://colab.research.google.com/assets/colab-badge.svg\" alt=\"Open In Colab\"/></a>"
      ]
    },
    {
      "cell_type": "code",
      "source": [
        "pip install pymongo"
      ],
      "metadata": {
        "colab": {
          "base_uri": "https://localhost:8080/"
        },
        "id": "UdULBZA7uEBG",
        "outputId": "7d191080-6960-4694-e900-d21ab8b57eed"
      },
      "execution_count": 1,
      "outputs": [
        {
          "output_type": "stream",
          "name": "stdout",
          "text": [
            "Collecting pymongo\n",
            "  Downloading pymongo-4.13.2-cp311-cp311-manylinux_2_17_x86_64.manylinux2014_x86_64.whl.metadata (22 kB)\n",
            "Collecting dnspython<3.0.0,>=1.16.0 (from pymongo)\n",
            "  Downloading dnspython-2.7.0-py3-none-any.whl.metadata (5.8 kB)\n",
            "Downloading pymongo-4.13.2-cp311-cp311-manylinux_2_17_x86_64.manylinux2014_x86_64.whl (1.4 MB)\n",
            "\u001b[2K   \u001b[90m━━━━━━━━━━━━━━━━━━━━━━━━━━━━━━━━━━━━━━━━\u001b[0m \u001b[32m1.4/1.4 MB\u001b[0m \u001b[31m16.3 MB/s\u001b[0m eta \u001b[36m0:00:00\u001b[0m\n",
            "\u001b[?25hDownloading dnspython-2.7.0-py3-none-any.whl (313 kB)\n",
            "\u001b[2K   \u001b[90m━━━━━━━━━━━━━━━━━━━━━━━━━━━━━━━━━━━━━━━━\u001b[0m \u001b[32m313.6/313.6 kB\u001b[0m \u001b[31m16.0 MB/s\u001b[0m eta \u001b[36m0:00:00\u001b[0m\n",
            "\u001b[?25hInstalling collected packages: dnspython, pymongo\n",
            "Successfully installed dnspython-2.7.0 pymongo-4.13.2\n"
          ]
        }
      ]
    },
    {
      "cell_type": "code",
      "execution_count": 2,
      "metadata": {
        "id": "Xwr0mg_bt-ye"
      },
      "outputs": [],
      "source": [
        "# importing module\n",
        "from pymongo import MongoClient\n",
        "\n",
        "hostname = \"vdjldz.h.filess.io\"\n",
        "database = \"olistecommerce_silkwideif\"\n",
        "port = \"27018\"\n",
        "username = \"olistecommerce_silkwideif\"\n",
        "password = \"3b62ad70e28ed010743eb37036d51778e5709a0a\"\n",
        "\n",
        "uri = \"mongodb://\" + username + \":\" + password + \"@\" + hostname + \":\" + port + \"/\" + database\n",
        "\n",
        "# Connect with the portnumber and host\n",
        "client = MongoClient(uri)\n",
        "\n",
        "# Access database\n",
        "mydatabase = client[database]\n"
      ]
    },
    {
      "cell_type": "code",
      "source": [
        "import pandas as pd\n",
        "\n",
        "# Read the CSV file\n",
        "try:\n",
        "    df = pd.read_csv('product_category_name_translation.csv')\n",
        "except FileNotFoundError:\n",
        "    print(\"Error: 'product_category_name_translation.csv' not found. Make sure the file is in the correct directory.\")\n",
        "    exit()\n",
        "\n",
        "# Convert DataFrame to a list of dictionaries\n",
        "data_to_upload = df.to_dict('records')\n",
        "\n",
        "# Create a new collection and upload the data\n",
        "collection_name = \"product_categories\"\n",
        "mycollection = mydatabase[collection_name]\n",
        "\n",
        "try:\n",
        "    mycollection.insert_many(data_to_upload)\n",
        "    print(f\"Successfully uploaded {len(data_to_upload)} documents to the '{collection_name}' collection.\")\n",
        "except Exception as e:\n",
        "    print(f\"An error occurred during insertion: {e}\")"
      ],
      "metadata": {
        "colab": {
          "base_uri": "https://localhost:8080/"
        },
        "id": "qXfgcnImuXxs",
        "outputId": "3db26079-0f3d-4e76-fd5f-702f5b5d6203"
      },
      "execution_count": 3,
      "outputs": [
        {
          "output_type": "stream",
          "name": "stdout",
          "text": [
            "Successfully uploaded 71 documents to the 'product_categories' collection.\n"
          ]
        }
      ]
    }
  ]
}